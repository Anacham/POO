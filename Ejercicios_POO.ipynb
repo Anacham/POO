{
  "nbformat": 4,
  "nbformat_minor": 0,
  "metadata": {
    "colab": {
      "provenance": []
    },
    "kernelspec": {
      "name": "python3",
      "display_name": "Python 3"
    },
    "language_info": {
      "name": "python"
    }
  },
  "cells": [
    {
      "cell_type": "markdown",
      "source": [
        "\n",
        "\n",
        "1.   Describe cuáles son las diferencias entre clases y objetos.\n",
        "2. Describe por qué usamos self como primer argumento en los métodos.\n",
        "3. ¿Qué es un constructor? ¿Y por qué lo usamos?\n",
        "4. Describir las diferencias entre los atributos de clase y de instancia.\n",
        "5. La siguiente es una definición de la clase Punto que toma las coordenadas x, y. Agregue un método plot_point que trace la posición del punto.\n",
        "6. Documenta y prueba con algunos puntos el siguiente código:\n",
        "\n",
        "```\n",
        "#\n",
        "import matplotlib.pyplot as plt\n",
        "\n",
        "class Punto():\n",
        "    def __init__(self, x, y):\n",
        "        self.x = x\n",
        "        self.y = y\n",
        "\n",
        "    def plot(self):\n",
        "        plt.scatter(self.x, self.y, color='red', marker='o')\n",
        "        plt.xlabel('X-axis')\n",
        "        plt.ylabel('Y-axis')\n",
        "        plt.title('Gráfica del punto')\n",
        "        plt.grid(True)\n",
        "        plt.show()\n",
        "```\n",
        "\n",
        "7. Cree una clase para modelar algún objeto del mundo real y cree una nueva clase para heredar de él. Un ejemplo puede ser el siguiente. Deberías usar un ejemplo diferente y usar tantas cosas que aprendimos como sea posible.\n",
        "\n",
        "\n",
        "\n",
        "```\n",
        "# class Carro():\n",
        "    def __init__(self, marca, color):\n",
        "        self.marca = marca\n",
        "        self.color = color\n",
        "    \n",
        "    def encender(self):\n",
        "        print('!Listo para conducir!')\n",
        "        \n",
        "class Camioneta(Carro):\n",
        "    def __init__(self, marca, color, tamaño):\n",
        "        super().__init__(marca, color)\n",
        "        self.tamaño = tamaño\n",
        "        \n",
        "    def encender(self, llave):\n",
        "        if llave == 'llave_camioneta':\n",
        "            print('¡Listo para conducir!')\n",
        "        else:\n",
        "            print('La llave no es la correcta')\n",
        "            \n",
        "    def apagar(self, apagar):\n",
        "        if apagar:\n",
        "            print('¡El motor está apagado!')\n",
        "        else:\n",
        "            print('¡Sigo conduciendo!')\n",
        "\n",
        "```\n",
        "\n",
        "\n",
        "\n"
      ],
      "metadata": {
        "id": "OlqRnXzXhqwb"
      }
    },
    {
      "cell_type": "markdown",
      "source": [
        "## Ejercicios POO"
      ],
      "metadata": {
        "id": "TgBu7yBbjvVR"
      }
    },
    {
      "cell_type": "markdown",
      "source": [],
      "metadata": {
        "id": "cnWCxqD0y2xH"
      }
    },
    {
      "cell_type": "markdown",
      "source": [],
      "metadata": {
        "id": "sxL1zIAl666U"
      }
    },
    {
      "cell_type": "code",
      "source": [],
      "metadata": {
        "id": "7skCcYA0icoq"
      },
      "execution_count": null,
      "outputs": []
    },
    {
      "cell_type": "markdown",
      "source": [
        "Respuestas:\n",
        "1. Lo que tienen difernete es que una clase es una base para definir los objetos  y estos son entidades dentro del lenguaje\n",
        "2. Para que la clase herencia llame a la clase madre y la misma se pueda definir como madre\n",
        "3. El constructor es para crear y asiganr objetos\n",
        "4. La diferencia entre un atributo y una instancia es que la instacnia es la froma de acceder a ellos, por lo tanto para los atributos de instancia solo es posible acceder a travez de un objeto. para los atributos de clase se accede directamente desde la clase y/o tambien por medio de un objeto\n",
        "\n",
        ""
      ],
      "metadata": {
        "id": "17nuroWby3um"
      }
    },
    {
      "cell_type": "code",
      "source": [
        "import matplotlib.pyplot as plt\n",
        "\n",
        "class Punto():\n",
        "    def __init__(self, x, y):\n",
        "        self.x = x\n",
        "        self.y = y\n",
        "\n",
        "    def plot(self):\n",
        "        plt.scatter(self.x, self.y, color='red', marker='o')\n",
        "        plt.xlabel('X-axis')\n",
        "        plt.ylabel('Y-axis')\n",
        "        plt.title('Gráfica del punto')\n",
        "        plt.grid(True)\n",
        "        plt.show()"
      ],
      "metadata": {
        "id": "96nNMDKU2vEg"
      },
      "execution_count": 1,
      "outputs": []
    },
    {
      "cell_type": "code",
      "source": [
        "punto = Punto (4,5) #construimos el punto\n",
        "\n",
        "#Buscamos para poder graficar este punto (4,5)\n"
      ],
      "metadata": {
        "id": "DOclwQhz24Ow"
      },
      "execution_count": 2,
      "outputs": []
    },
    {
      "cell_type": "code",
      "source": [
        "punto.plot()"
      ],
      "metadata": {
        "id": "FuqNQeWq3DWP",
        "outputId": "52a59187-d196-4c4f-dd4f-bf0a45a9a89b",
        "colab": {
          "base_uri": "https://localhost:8080/",
          "height": 472
        }
      },
      "execution_count": 3,
      "outputs": [
        {
          "output_type": "display_data",
          "data": {
            "text/plain": [
              "<Figure size 640x480 with 1 Axes>"
            ],
            "image/png": "[encoded data removed]"
          },
          "metadata": {}
        }
      ]
    },
    {
      "cell_type": "markdown",
      "source": [
        "#7"
      ],
      "metadata": {
        "id": "Wq6sVosw4OvF"
      }
    },
    {
      "cell_type": "code",
      "source": [
        "class DispositivosElectrónicos():\n",
        "    def __init__(self, marca, tipo):\n",
        "        self.marca = marca\n",
        "        self.tipo = tipo\n",
        "\n",
        "    def encender(self):\n",
        "        print('!Vamos a programar!')\n",
        "\n",
        "class Computadora(DispositivosElectrónicos):\n",
        "    def __init__(self, marca, tipo, color):\n",
        "        super().__init__(marca, tipo)\n",
        "        self.color = color\n",
        "\n",
        "    def encender(self, cargador):\n",
        "        if cargador == 'cargador de compu':\n",
        "            print('¡Listo para programar!')\n",
        "        else:\n",
        "            print('El cargador no es la correcta')\n",
        "\n",
        "    def apagar(self, apagar):\n",
        "        if apagar:\n",
        "            print('¡El aparato está apagado!')\n",
        "        else:\n",
        "            print('¡Sigo programando!')"
      ],
      "metadata": {
        "id": "T_6x71am4JsP"
      },
      "execution_count": 11,
      "outputs": []
    }
  ]
}