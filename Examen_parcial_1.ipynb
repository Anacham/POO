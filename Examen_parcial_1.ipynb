{
  "nbformat": 4,
  "nbformat_minor": 0,
  "metadata": {
    "colab": {
      "provenance": []
    },
    "kernelspec": {
      "name": "python3",
      "display_name": "Python 3"
    },
    "language_info": {
      "name": "python"
    }
  },
  "cells": [
    {
      "cell_type": "code",
      "execution_count": null,
      "metadata": {
        "id": "-392uSNy15Rb"
      },
      "outputs": [],
      "source": [
        "class formulas():#matriz y determinante\n",
        "  def __init__(self):\n",
        "    print(\"Creamos clase madre\")\n",
        "\n",
        "class matriz(formulas):\n",
        "\n",
        "  def __init__(self):\n",
        "    matriz.__init__(self)\n",
        "    print (\"Crear una clase matriz \")\n",
        "\n",
        "\n"
      ]
    },
    {
      "cell_type": "code",
      "source": [
        "import numpy as np"
      ],
      "metadata": {
        "id": "wEhA4M6V4BzT"
      },
      "execution_count": null,
      "outputs": []
    },
    {
      "cell_type": "code",
      "source": [
        "L = [i for i in np.random.randint(1,21, size =35) if i%2==0]\n",
        "L"
      ],
      "metadata": {
        "colab": {
          "base_uri": "https://localhost:8080/"
        },
        "id": "4v-CgAp04HuI",
        "outputId": "19c081d2-46c1-4661-9f87-c3b8d5d6dfc2"
      },
      "execution_count": null,
      "outputs": [
        {
          "output_type": "execute_result",
          "data": {
            "text/plain": [
              "[18, 10, 12, 14, 14, 12, 20, 12, 14, 14, 12, 6, 6, 20, 18, 10]"
            ]
          },
          "metadata": {},
          "execution_count": 100
        }
      ]
    },
    {
      "cell_type": "code",
      "source": [
        "L_arreglo =np.array(L)\n",
        "L_arreglo"
      ],
      "metadata": {
        "colab": {
          "base_uri": "https://localhost:8080/"
        },
        "id": "lM8DBqcR4yTg",
        "outputId": "6969b42f-ddeb-47bf-a62c-5c26aaf9cef8"
      },
      "execution_count": null,
      "outputs": [
        {
          "output_type": "execute_result",
          "data": {
            "text/plain": [
              "array([18, 10, 12, 14, 14, 12, 20, 12, 14, 14, 12,  6,  6, 20, 18, 10])"
            ]
          },
          "metadata": {},
          "execution_count": 101
        }
      ]
    },
    {
      "cell_type": "code",
      "source": [
        "len(L_arreglo)"
      ],
      "metadata": {
        "colab": {
          "base_uri": "https://localhost:8080/"
        },
        "id": "3WYzOJkP44wA",
        "outputId": "18cd8f5d-8f68-40d4-d7b3-fb3c60bfa54c"
      },
      "execution_count": null,
      "outputs": [
        {
          "output_type": "execute_result",
          "data": {
            "text/plain": [
              "16"
            ]
          },
          "metadata": {},
          "execution_count": 102
        }
      ]
    },
    {
      "cell_type": "code",
      "source": [
        "L_matriz= L_arreglo.reshape(4,4)\n",
        "L_matriz"
      ],
      "metadata": {
        "colab": {
          "base_uri": "https://localhost:8080/"
        },
        "id": "tn0H2Pfg5FX9",
        "outputId": "e0f84180-e469-48ad-e1aa-040bbd528d64"
      },
      "execution_count": null,
      "outputs": [
        {
          "output_type": "execute_result",
          "data": {
            "text/plain": [
              "array([[18, 10, 12, 14],\n",
              "       [14, 12, 20, 12],\n",
              "       [14, 14, 12,  6],\n",
              "       [ 6, 20, 18, 10]])"
            ]
          },
          "metadata": {},
          "execution_count": 103
        }
      ]
    },
    {
      "cell_type": "code",
      "source": [
        "import numpy as np\n",
        "def calcular_determinante (matriz):\n",
        "  determinante=np.linalg.det(matriz)\n",
        "  print(\"El detrerminante es:\")\n",
        "  print(determinante )"
      ],
      "metadata": {
        "id": "En5phCbb482L"
      },
      "execution_count": null,
      "outputs": []
    },
    {
      "cell_type": "code",
      "source": [
        "#Triangulo equilatero area y perimetro\n",
        "\n",
        "class Area():\n",
        "  def __init__(self,lado_1, lado_2, lado_3, alto):\n",
        "    self.lado_1 = lado_1\n",
        "    self.lado_2 = lado_2\n",
        "    self.lado_3 = lado_3\n",
        "    self.alto = alto\n",
        "\n",
        "  def perimetro(self):\n",
        "    perimetro = (self.lado_1 + self.lado_2 + self.lado_3)\n",
        "    return perimetro\n",
        "\n",
        "  def area_triangulo(self):\n",
        "    area = self.area_triangulo\n",
        "    area = ((self.lado, ((3**(1/2))*lado_1**2)/4))\n",
        "    return area\n",
        "\n",
        "  def mostrar_area(self):\n",
        "    print(f\"El area del traingulo es: {area}\")\n",
        "\n",
        "  def mostrar_perimetro(self):\n",
        "    perimetro = self.perimetro()\n",
        "    print(f\"El perimetro del traingulo es: {perimetro}\")\n"
      ],
      "metadata": {
        "id": "AP3aSjrX87i-"
      },
      "execution_count": null,
      "outputs": []
    },
    {
      "cell_type": "code",
      "source": [
        "area =Area(5,5,5,10)\n",
        "area.perimetro()\n",
        "area.mostrar_area()\n",
        "area.mostrar_perimetro()\n"
      ],
      "metadata": {
        "colab": {
          "base_uri": "https://localhost:8080/"
        },
        "id": "X_3TD_2LARWN",
        "outputId": "9bb30947-3dfa-4a09-fc0e-1342f230877d"
      },
      "execution_count": null,
      "outputs": [
        {
          "output_type": "stream",
          "name": "stdout",
          "text": [
            "El area del traingulo es: <__main__.Area object at 0x7a9c2a789330>\n",
            "El perimetro del traingulo es: 15\n"
          ]
        }
      ]
    },
    {
      "cell_type": "code",
      "source": [
        "class Formulas:\n",
        "  def __init__(self):\n",
        "    print(\"Sacaremos area y perimetro\")\n"
      ],
      "metadata": {
        "id": "X1SIohRlCSFI"
      },
      "execution_count": null,
      "outputs": []
    }
  ]
}