{
  "nbformat": 4,
  "nbformat_minor": 0,
  "metadata": {
    "colab": {
      "provenance": []
    },
    "kernelspec": {
      "name": "python3",
      "display_name": "Python 3"
    },
    "language_info": {
      "name": "python"
    }
  },
  "cells": [
    {
      "cell_type": "code",
      "execution_count": null,
      "metadata": {
        "id": "c1YCxwGASMPZ"
      },
      "outputs": [],
      "source": []
    },
    {
      "cell_type": "markdown",
      "source": [
        "#listas"
      ],
      "metadata": {
        "id": "4UCWF3AgTRg1"
      }
    },
    {
      "cell_type": "code",
      "source": [
        "#Vamos a generar una lista vacía\n",
        "L = []\n",
        "for i in range(10):\n",
        "  print(i)\n",
        "\n"
      ],
      "metadata": {
        "colab": {
          "base_uri": "https://localhost:8080/"
        },
        "id": "b4DTfZN7TYdY",
        "outputId": "24ea9625-f365-49cb-8052-e5774e571080"
      },
      "execution_count": 2,
      "outputs": [
        {
          "output_type": "stream",
          "name": "stdout",
          "text": [
            "0\n",
            "1\n",
            "2\n",
            "3\n",
            "4\n",
            "5\n",
            "6\n",
            "7\n",
            "8\n",
            "9\n"
          ]
        }
      ]
    },
    {
      "cell_type": "code",
      "source": [
        "L=[1,2,3,4]\n",
        "L"
      ],
      "metadata": {
        "id": "IkcOpPcSZ43x"
      },
      "execution_count": null,
      "outputs": []
    },
    {
      "cell_type": "code",
      "source": [
        "L.append(5)\n",
        "L"
      ],
      "metadata": {
        "id": "LoeooFmfZ9Yn"
      },
      "execution_count": null,
      "outputs": []
    },
    {
      "cell_type": "code",
      "source": [
        "type([])"
      ],
      "metadata": {
        "colab": {
          "base_uri": "https://localhost:8080/"
        },
        "id": "k9ivNOG4aOnP",
        "outputId": "8a45ef23-56ec-4134-a695-ceea4613be1b"
      },
      "execution_count": 3,
      "outputs": [
        {
          "output_type": "execute_result",
          "data": {
            "text/plain": [
              "list"
            ]
          },
          "metadata": {},
          "execution_count": 3
        }
      ]
    },
    {
      "cell_type": "code",
      "source": [
        "len([2,4,6,8])"
      ],
      "metadata": {
        "colab": {
          "base_uri": "https://localhost:8080/"
        },
        "id": "5H2vLpHWbfOm",
        "outputId": "3ab58706-758d-4910-9a31-2aca492a2903"
      },
      "execution_count": 4,
      "outputs": [
        {
          "output_type": "execute_result",
          "data": {
            "text/plain": [
              "4"
            ]
          },
          "metadata": {},
          "execution_count": 4
        }
      ]
    },
    {
      "cell_type": "code",
      "source": [
        "Pares = [i for i in range(1,101) if i%2==0]\n",
        "Pares"
      ],
      "metadata": {
        "colab": {
          "base_uri": "https://localhost:8080/"
        },
        "id": "d2dB3cNWbkS-",
        "outputId": "ea5dcd9d-1844-48a1-c6ca-3a0080466253"
      },
      "execution_count": 8,
      "outputs": [
        {
          "output_type": "execute_result",
          "data": {
            "text/plain": [
              "[2,\n",
              " 4,\n",
              " 6,\n",
              " 8,\n",
              " 10,\n",
              " 12,\n",
              " 14,\n",
              " 16,\n",
              " 18,\n",
              " 20,\n",
              " 22,\n",
              " 24,\n",
              " 26,\n",
              " 28,\n",
              " 30,\n",
              " 32,\n",
              " 34,\n",
              " 36,\n",
              " 38,\n",
              " 40,\n",
              " 42,\n",
              " 44,\n",
              " 46,\n",
              " 48,\n",
              " 50,\n",
              " 52,\n",
              " 54,\n",
              " 56,\n",
              " 58,\n",
              " 60,\n",
              " 62,\n",
              " 64,\n",
              " 66,\n",
              " 68,\n",
              " 70,\n",
              " 72,\n",
              " 74,\n",
              " 76,\n",
              " 78,\n",
              " 80,\n",
              " 82,\n",
              " 84,\n",
              " 86,\n",
              " 88,\n",
              " 90,\n",
              " 92,\n",
              " 94,\n",
              " 96,\n",
              " 98,\n",
              " 100]"
            ]
          },
          "metadata": {},
          "execution_count": 8
        }
      ]
    },
    {
      "cell_type": "code",
      "source": [
        "import numpy as np"
      ],
      "metadata": {
        "id": "n1ec8riQhNBe"
      },
      "execution_count": 15,
      "outputs": []
    },
    {
      "cell_type": "code",
      "source": [
        "np.random.randint(1,10, 100)\n"
      ],
      "metadata": {
        "colab": {
          "base_uri": "https://localhost:8080/"
        },
        "id": "-qSfDOoPkXpm",
        "outputId": "bfeb28dc-4cef-4064-c277-c68872c7302a"
      },
      "execution_count": 16,
      "outputs": [
        {
          "output_type": "execute_result",
          "data": {
            "text/plain": [
              "array([4, 1, 9, 8, 4, 9, 7, 3, 4, 9, 2, 2, 4, 6, 7, 8, 7, 7, 2, 7, 9, 5,\n",
              "       9, 6, 7, 3, 9, 6, 6, 2, 9, 5, 5, 7, 5, 7, 6, 2, 6, 8, 1, 6, 5, 1,\n",
              "       4, 4, 8, 3, 4, 4, 8, 9, 7, 9, 5, 7, 7, 5, 9, 5, 3, 5, 8, 7, 9, 9,\n",
              "       2, 8, 9, 4, 9, 5, 6, 7, 4, 3, 4, 3, 4, 5, 1, 3, 9, 8, 9, 6, 2, 2,\n",
              "       6, 1, 4, 2, 2, 6, 8, 5, 7, 2, 9, 8])"
            ]
          },
          "metadata": {},
          "execution_count": 16
        }
      ]
    },
    {
      "cell_type": "code",
      "source": [
        "#El sistema escogera numeros pares\n",
        "Pares = [i for i in (np.random.randint(1,10,100)) if i%2==0 ]\n",
        "Pares"
      ],
      "metadata": {
        "colab": {
          "base_uri": "https://localhost:8080/"
        },
        "id": "ySLfZe_7hjom",
        "outputId": "bb7ff4a0-f33a-4881-ea3b-a476ca45963f"
      },
      "execution_count": 17,
      "outputs": [
        {
          "output_type": "execute_result",
          "data": {
            "text/plain": [
              "[6,\n",
              " 4,\n",
              " 4,\n",
              " 4,\n",
              " 6,\n",
              " 2,\n",
              " 6,\n",
              " 2,\n",
              " 8,\n",
              " 4,\n",
              " 8,\n",
              " 2,\n",
              " 2,\n",
              " 6,\n",
              " 4,\n",
              " 2,\n",
              " 4,\n",
              " 6,\n",
              " 2,\n",
              " 4,\n",
              " 4,\n",
              " 6,\n",
              " 4,\n",
              " 6,\n",
              " 6,\n",
              " 2,\n",
              " 4,\n",
              " 8,\n",
              " 8,\n",
              " 4,\n",
              " 6,\n",
              " 2,\n",
              " 8,\n",
              " 6,\n",
              " 6,\n",
              " 6,\n",
              " 2,\n",
              " 4,\n",
              " 4,\n",
              " 4,\n",
              " 6,\n",
              " 6]"
            ]
          },
          "metadata": {},
          "execution_count": 17
        }
      ]
    }
  ]
}