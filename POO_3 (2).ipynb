{
  "nbformat": 4,
  "nbformat_minor": 0,
  "metadata": {
    "colab": {
      "provenance": []
    },
    "kernelspec": {
      "name": "python3",
      "display_name": "Python 3"
    },
    "language_info": {
      "name": "python"
    }
  },
  "cells": [
    {
      "cell_type": "code",
      "source": [
        "def Perimetro(b,l):\n",
        "  p=(b*2)+l\n",
        "  return p"
      ],
      "metadata": {
        "id": "-zBzfdXXoAtI"
      },
      "execution_count": null,
      "outputs": []
    },
    {
      "cell_type": "code",
      "source": [
        "Perimetro(2,8)"
      ],
      "metadata": {
        "id": "5DjgMTd_oJQ8"
      },
      "execution_count": null,
      "outputs": []
    },
    {
      "cell_type": "code",
      "source": [
        "def numpar(x):\n",
        "  num = x%2\n",
        "  return num"
      ],
      "metadata": {
        "id": "j1I8Jip2oMJQ"
      },
      "execution_count": null,
      "outputs": []
    },
    {
      "cell_type": "code",
      "source": [
        "numpar (9)"
      ],
      "metadata": {
        "id": "3zKoa9xnoRZ3"
      },
      "execution_count": null,
      "outputs": []
    },
    {
      "cell_type": "code",
      "source": [
        "x=455776\n",
        "if numpar(x)==0:\n",
        "  print(\"par\")\n",
        "else:\n",
        "    print(\"impar\")"
      ],
      "metadata": {
        "id": "Ozazy6ccoTVv"
      },
      "execution_count": null,
      "outputs": []
    },
    {
      "cell_type": "code",
      "source": [
        "//Aqui se pide al usuario que ingrese la cantidad deseada\n",
        "n=int(input(\"Ingresa:\"))\n",
        "L=[i for i in range(1,n) if n%1==0]\n",
        "L"
      ],
      "metadata": {
        "id": "q_dEIZcEogsP"
      },
      "execution_count": null,
      "outputs": []
    },
    {
      "cell_type": "code",
      "source": [
        "//Se agrega esto para demostrar que es perfecto o no\n",
        "if (sum(L)==n):\n",
        "  print(\"Es perfecto\")\n",
        "else:\n",
        "  print (\"No es perfecto\")"
      ],
      "metadata": {
        "id": "-AWCiPzHoxqP"
      },
      "execution_count": null,
      "outputs": []
    }
  ]
}