{
  "nbformat": 4,
  "nbformat_minor": 0,
  "metadata": {
    "colab": {
      "provenance": []
    },
    "kernelspec": {
      "name": "python3",
      "display_name": "Python 3"
    },
    "language_info": {
      "name": "python"
    }
  },
  "cells": [
    {
      "cell_type": "code",
      "execution_count": 20,
      "metadata": {
        "id": "Kfrn_igyYKvh"
      },
      "outputs": [],
      "source": [
        "class Mascota():\n",
        "\n",
        "  def __init__(self):\n",
        "    print(\"Creamos una clase madre\")\n",
        "\n",
        "  def adivina(self):\n",
        "    print(\"Hola, soy un perro\")\n",
        "\n",
        "  def hablar(self):\n",
        "    print(\"Ladro\")"
      ]
    },
    {
      "cell_type": "code",
      "source": [
        "mascota = Mascota()"
      ],
      "metadata": {
        "colab": {
          "base_uri": "https://localhost:8080/"
        },
        "id": "J4LrhdSpm61v",
        "outputId": "d21b201d-736d-4c78-c099-cd14b2238889"
      },
      "execution_count": 21,
      "outputs": [
        {
          "output_type": "stream",
          "name": "stdout",
          "text": [
            "Creamos una clase madre\n"
          ]
        }
      ]
    },
    {
      "cell_type": "code",
      "source": [
        "mascota.adivina()"
      ],
      "metadata": {
        "colab": {
          "base_uri": "https://localhost:8080/"
        },
        "id": "jWsVj2wUm_en",
        "outputId": "c2b51436-97be-4663-8d50-af08fb070923"
      },
      "execution_count": 22,
      "outputs": [
        {
          "output_type": "stream",
          "name": "stdout",
          "text": [
            "Hola, soy un perro\n"
          ]
        }
      ]
    },
    {
      "cell_type": "code",
      "source": [
        "mascota.hablar()"
      ],
      "metadata": {
        "colab": {
          "base_uri": "https://localhost:8080/"
        },
        "id": "ikAWzCrXnCHW",
        "outputId": "e96e066d-5c69-4eb7-da7e-b365c871a882"
      },
      "execution_count": 23,
      "outputs": [
        {
          "output_type": "stream",
          "name": "stdout",
          "text": [
            "Ladro\n"
          ]
        }
      ]
    },
    {
      "cell_type": "markdown",
      "source": [
        "Crear una herencia"
      ],
      "metadata": {
        "id": "li0PWthMg0SM"
      }
    },
    {
      "cell_type": "code",
      "source": [
        "class Perro(Mascota):\n",
        "  def __init__(self):\n",
        "    Mascota.__init__(self)\n",
        "    print(\"Creamos una clase heredada\")\n",
        "\n",
        "  def nombre(self):\n",
        "    print(\"Pipa\")\n",
        "\n",
        "  def adivina(self):\n",
        "    print(\"Poodle\")\n",
        "\n",
        "  def idioma(self):\n",
        "    print(\"Whoof\")"
      ],
      "metadata": {
        "id": "bDWP8gmeg21D"
      },
      "execution_count": 24,
      "outputs": []
    },
    {
      "cell_type": "code",
      "source": [
        "perro = Perro() #clase heredada"
      ],
      "metadata": {
        "colab": {
          "base_uri": "https://localhost:8080/"
        },
        "id": "5P6VQDJ8nv-A",
        "outputId": "a2b34722-e124-48c2-cc79-33251ac44594"
      },
      "execution_count": 26,
      "outputs": [
        {
          "output_type": "stream",
          "name": "stdout",
          "text": [
            "Creamos una clase madre\n",
            "Creamos una clase heredada\n"
          ]
        }
      ]
    },
    {
      "cell_type": "markdown",
      "source": [
        "se creo una clase madre y clase heredada"
      ],
      "metadata": {
        "id": "s_SctFjln3eW"
      }
    },
    {
      "cell_type": "code",
      "source": [
        "perro.nombre()"
      ],
      "metadata": {
        "colab": {
          "base_uri": "https://localhost:8080/"
        },
        "id": "Zn8PQJfMn6Tu",
        "outputId": "3b2b2cbc-e8a4-414c-d9c2-5a03b6b7780e"
      },
      "execution_count": 27,
      "outputs": [
        {
          "output_type": "stream",
          "name": "stdout",
          "text": [
            "Pipa\n"
          ]
        }
      ]
    },
    {
      "cell_type": "code",
      "source": [
        "perro.idioma()"
      ],
      "metadata": {
        "id": "LzNs9TCfn-pe"
      },
      "execution_count": null,
      "outputs": []
    },
    {
      "cell_type": "code",
      "source": [
        "mascota.adivina()"
      ],
      "metadata": {
        "id": "yP0QgvOFoBWG"
      },
      "execution_count": null,
      "outputs": []
    },
    {
      "cell_type": "markdown",
      "source": [
        "Propio texto"
      ],
      "metadata": {
        "id": "hAdljYk1pN0N"
      }
    },
    {
      "cell_type": "code",
      "source": [
        "class Ana():\n",
        "  def __int__(self):\n",
        "    print(\"Creamos clase madre\")\n",
        "  def adivina(self):\n",
        "    print(\"Hola, soy Ana\")\n",
        "\n",
        "  def hablar(self):\n",
        "    print(\"Me gusta el chocolate\")"
      ],
      "metadata": {
        "id": "vvlfeWInpPR5"
      },
      "execution_count": 30,
      "outputs": []
    },
    {
      "cell_type": "code",
      "source": [
        "ana = Ana()"
      ],
      "metadata": {
        "id": "DK4iMc-upoRh"
      },
      "execution_count": 31,
      "outputs": []
    },
    {
      "cell_type": "code",
      "source": [
        "ana.hablar()"
      ],
      "metadata": {
        "colab": {
          "base_uri": "https://localhost:8080/"
        },
        "id": "yR4LeOpHpqjw",
        "outputId": "a9877598-c775-4618-fd15-690a253d84c0"
      },
      "execution_count": 32,
      "outputs": [
        {
          "output_type": "stream",
          "name": "stdout",
          "text": [
            "Me gusta el chocolate\n"
          ]
        }
      ]
    },
    {
      "cell_type": "code",
      "source": [
        "ana.adivina()"
      ],
      "metadata": {
        "colab": {
          "base_uri": "https://localhost:8080/"
        },
        "id": "tInEuicUp4fW",
        "outputId": "6c4942f6-f84c-4527-dfca-61b0ce39bce0"
      },
      "execution_count": 33,
      "outputs": [
        {
          "output_type": "stream",
          "name": "stdout",
          "text": [
            "Hola, soy Ana\n"
          ]
        }
      ]
    },
    {
      "cell_type": "code",
      "source": [
        "class Regina(Ana):\n",
        "  def __int__(self):\n",
        "    Ana._int__(self)\n",
        "    print(\"Creamos una clase heredada\")\n",
        "\n",
        "  def nombre(self):\n",
        "    print(\"Regina\")\n",
        "\n",
        "  def adivina(self):\n",
        "    print(\"Mi BFF\")\n",
        "\n",
        "  def idioma(self):\n",
        "    print(\"Español\")\n",
        "\n",
        ""
      ],
      "metadata": {
        "id": "1diElc7Np7Cl"
      },
      "execution_count": 34,
      "outputs": []
    },
    {
      "cell_type": "code",
      "source": [
        "regina = Regina()\n"
      ],
      "metadata": {
        "id": "4-5QvmUWrFrV"
      },
      "execution_count": 35,
      "outputs": []
    },
    {
      "cell_type": "code",
      "source": [
        "regina.nombre()"
      ],
      "metadata": {
        "colab": {
          "base_uri": "https://localhost:8080/"
        },
        "id": "hB33LzwvrJmh",
        "outputId": "2c4f695e-2e50-4221-aed6-f280188b126a"
      },
      "execution_count": 36,
      "outputs": [
        {
          "output_type": "stream",
          "name": "stdout",
          "text": [
            "Regina\n"
          ]
        }
      ]
    },
    {
      "cell_type": "code",
      "source": [
        "regina.idioma()"
      ],
      "metadata": {
        "colab": {
          "base_uri": "https://localhost:8080/"
        },
        "id": "Da34HAekrNiI",
        "outputId": "0a17d03d-fbcc-4b0a-fd7b-d762c7d02413"
      },
      "execution_count": 38,
      "outputs": [
        {
          "output_type": "stream",
          "name": "stdout",
          "text": [
            "Español\n"
          ]
        }
      ]
    },
    {
      "cell_type": "code",
      "source": [
        "regina.adivina()"
      ],
      "metadata": {
        "colab": {
          "base_uri": "https://localhost:8080/"
        },
        "id": "fRhYocvlrReJ",
        "outputId": "f19b07c7-bd7d-49ee-f469-8da9ba8cd00f"
      },
      "execution_count": 40,
      "outputs": [
        {
          "output_type": "stream",
          "name": "stdout",
          "text": [
            "Mi BFF\n"
          ]
        }
      ]
    },
    {
      "cell_type": "code",
      "source": [
        "ana.adivina()"
      ],
      "metadata": {
        "colab": {
          "base_uri": "https://localhost:8080/"
        },
        "id": "k5Au9li0rWt0",
        "outputId": "2556f859-23b4-49a4-dbb0-97cf90a0609e"
      },
      "execution_count": 42,
      "outputs": [
        {
          "output_type": "stream",
          "name": "stdout",
          "text": [
            "Hola, soy Ana\n"
          ]
        }
      ]
    }
  ]
}